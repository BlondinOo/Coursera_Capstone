{
 "cells": [
  {
   "cell_type": "markdown",
   "metadata": {},
   "source": [
    "# Segmenting and Clustering Neighborhoods in Toronto\n",
    "\n",
    "\n",
    "## Web scrapping of wikipedia \" List of postal codes of Canada\" page"
   ]
  },
  {
   "cell_type": "markdown",
   "metadata": {},
   "source": [
    "### import of the pakages\n",
    "### I  use beutifullsoup to do the webscrapping (the first html table)"
   ]
  },
  {
   "cell_type": "code",
   "execution_count": 5,
   "metadata": {
    "tags": [
     "outputPrepend"
    ]
   },
   "outputs": [],
   "source": [
    "import pandas as pd\n",
    "import requests\n",
    "from bs4 import BeautifulSoup\n",
    "\n",
    "headers = requests.utils.default_headers()\n",
    "\n",
    "url = \"https://en.wikipedia.org/wiki/List_of_postal_codes_of_Canada:_M\"\n",
    "req = requests.get(url, headers)\n",
    "soup = BeautifulSoup(req.content, 'html.parser')\n",
    "\n",
    "#print(soup.prettify())\n",
    "\n",
    "tabs =soup.find_all(\"table\")# i only take the first table in the page\n",
    "tab=tabs[0]"
   ]
  },
  {
   "cell_type": "markdown",
   "metadata": {},
   "source": [
    "### Read the rows and fill a dictionnary (the key is the postal code)"
   ]
  },
  {
   "cell_type": "code",
   "execution_count": 6,
   "metadata": {
    "tags": [
     "outputPrepend"
    ]
   },
   "outputs": [],
   "source": [
    "dic={}#i create a dictionnary from the html table, the key is the postal code\n",
    "\n",
    "#loops on the tr and td html tags\n",
    "for row in tab.find_all('tr'):\n",
    "   \n",
    "    columns = row.find_all('td')\n",
    "   \n",
    "    postalCode=\"\"\n",
    "    borough=\"\"\n",
    "    neighborhood=\"\"\n",
    "\n",
    "    tds=[0,0,0]\n",
    "    ind=0\n",
    "\n",
    "    for column in columns:\n",
    "       tds[ind]= column.get_text().rstrip()#\\n suppress\n",
    "       ind+=1\n",
    "    \n",
    "    #i skip the header row\n",
    "    if ind==0:\n",
    "        continue  \n",
    "  \n",
    "    #i read the values \n",
    "    postalCode=tds[0]\n",
    "    borough=tds[1]\n",
    "\n",
    "    if(tds[2]!='Not assigned'):\n",
    "        neighborhood=tds[2]\n",
    "    else:\n",
    "        neighborhood=borough\n",
    "\n",
    "    #filling the dictionnary\n",
    "    if postalCode in dic :\n",
    "        #the postalcode already exist in the dictionnary\n",
    "        dic[postalCode]=dic[postalCode][1]+','+neighborhood\n",
    "    else:\n",
    "        if(borough!='Not assigned'):\n",
    "            dic[postalCode]=[borough,neighborhood]\n",
    "        \n"
   ]
  },
  {
   "cell_type": "code",
   "execution_count": 9,
   "metadata": {},
   "outputs": [
    {
     "output_type": "execute_result",
     "data": {
      "text/plain": "  PostalCode           Borough                                 Neighborhood\n0        M3A        North York                                    Parkwoods\n1        M4A        North York                             Victoria Village\n2        M5A  Downtown Toronto                    Regent Park, Harbourfront\n3        M6A        North York             Lawrence Manor, Lawrence Heights\n4        M7A  Downtown Toronto  Queen's Park, Ontario Provincial Government",
      "text/html": "<div>\n<style scoped>\n    .dataframe tbody tr th:only-of-type {\n        vertical-align: middle;\n    }\n\n    .dataframe tbody tr th {\n        vertical-align: top;\n    }\n\n    .dataframe thead th {\n        text-align: right;\n    }\n</style>\n<table border=\"1\" class=\"dataframe\">\n  <thead>\n    <tr style=\"text-align: right;\">\n      <th></th>\n      <th>PostalCode</th>\n      <th>Borough</th>\n      <th>Neighborhood</th>\n    </tr>\n  </thead>\n  <tbody>\n    <tr>\n      <th>0</th>\n      <td>M3A</td>\n      <td>North York</td>\n      <td>Parkwoods</td>\n    </tr>\n    <tr>\n      <th>1</th>\n      <td>M4A</td>\n      <td>North York</td>\n      <td>Victoria Village</td>\n    </tr>\n    <tr>\n      <th>2</th>\n      <td>M5A</td>\n      <td>Downtown Toronto</td>\n      <td>Regent Park, Harbourfront</td>\n    </tr>\n    <tr>\n      <th>3</th>\n      <td>M6A</td>\n      <td>North York</td>\n      <td>Lawrence Manor, Lawrence Heights</td>\n    </tr>\n    <tr>\n      <th>4</th>\n      <td>M7A</td>\n      <td>Downtown Toronto</td>\n      <td>Queen's Park, Ontario Provincial Government</td>\n    </tr>\n  </tbody>\n</table>\n</div>"
     },
     "metadata": {},
     "execution_count": 9
    }
   ],
   "source": [
    "#building the dataframe\n",
    "df=pd.DataFrame.from_dict(dic,columns=['Borough','Neighborhood'],  orient='index')\n",
    "df['PostalCode']=df.index\n",
    "df.reset_index(drop=True,inplace=True)\n",
    "df = df.reindex(columns = ['PostalCode', 'Borough','Neighborhood'])\n",
    "df.head(5)"
   ]
  },
  {
   "cell_type": "code",
   "execution_count": 8,
   "metadata": {},
   "outputs": [
    {
     "output_type": "execute_result",
     "data": {
      "text/plain": "(103, 3)"
     },
     "metadata": {},
     "execution_count": 8
    }
   ],
   "source": [
    "df.shape"
   ]
  },
  {
   "cell_type": "code",
   "execution_count": null,
   "metadata": {},
   "outputs": [],
   "source": []
  }
 ],
 "metadata": {
  "language_info": {
   "codemirror_mode": {
    "name": "ipython",
    "version": 3
   },
   "file_extension": ".py",
   "mimetype": "text/x-python",
   "name": "python",
   "nbconvert_exporter": "python",
   "pygments_lexer": "ipython3",
   "version": "3.6.5-final"
  },
  "orig_nbformat": 2,
  "kernelspec": {
   "name": "python3",
   "display_name": "Python 3"
  }
 },
 "nbformat": 4,
 "nbformat_minor": 2
}