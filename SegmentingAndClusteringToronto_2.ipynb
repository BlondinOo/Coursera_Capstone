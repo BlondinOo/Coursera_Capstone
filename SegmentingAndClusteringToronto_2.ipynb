{
 "cells": [
  {
   "cell_type": "markdown",
   "metadata": {},
   "source": [
    "# Segmenting and Clustering Neighborhoods in Toronto\n",
    "\n",
    "\n",
    "## Web scrapping of wikipedia \" List of postal codes of Canada\" page"
   ]
  },
  {
   "cell_type": "markdown",
   "metadata": {},
   "source": [
    "## Table of Contents\n",
    "\n",
    "<div class=\"alert alert-block alert-info\" style=\"margin-top: 20px\">\n",
    "\n",
    "<font size = 3>\n",
    "\n",
    "\n",
    "2. <a href=\"#item2\">Get the latitude and longitude of the Neighborhoods</a>\n",
    "\n",
    "\n",
    "</font>\n",
    "</div>"
   ]
  },
  {
   "cell_type": "markdown",
   "metadata": {},
   "source": [
    "#  2-Get the latitude and longitude of the Neighborhoods"
   ]
  },
  {
   "cell_type": "code",
   "execution_count": 7,
   "metadata": {},
   "outputs": [],
   "source": [
    "import pandas as pd\n",
    "import requests\n",
    "from bs4 import BeautifulSoup\n",
    "\n",
    "# Matplotlib and associated plotting modules\n",
    "import matplotlib.cm as cm\n",
    "import matplotlib.colors as colors\n"
   ]
  },
  {
   "cell_type": "markdown",
   "metadata": {},
   "source": [
    " read the csv generated in the previous step of the assignment "
   ]
  },
  {
   "cell_type": "code",
   "execution_count": 16,
   "metadata": {},
   "outputs": [
    {
     "output_type": "execute_result",
     "data": {
      "text/plain": "  PostalCode           Borough                                 Neighborhood\n0        M3A        North York                                    Parkwoods\n1        M4A        North York                             Victoria Village\n2        M5A  Downtown Toronto                    Regent Park, Harbourfront\n3        M6A        North York             Lawrence Manor, Lawrence Heights\n4        M7A  Downtown Toronto  Queen's Park, Ontario Provincial Government",
      "text/html": "<div>\n<style scoped>\n    .dataframe tbody tr th:only-of-type {\n        vertical-align: middle;\n    }\n\n    .dataframe tbody tr th {\n        vertical-align: top;\n    }\n\n    .dataframe thead th {\n        text-align: right;\n    }\n</style>\n<table border=\"1\" class=\"dataframe\">\n  <thead>\n    <tr style=\"text-align: right;\">\n      <th></th>\n      <th>PostalCode</th>\n      <th>Borough</th>\n      <th>Neighborhood</th>\n    </tr>\n  </thead>\n  <tbody>\n    <tr>\n      <th>0</th>\n      <td>M3A</td>\n      <td>North York</td>\n      <td>Parkwoods</td>\n    </tr>\n    <tr>\n      <th>1</th>\n      <td>M4A</td>\n      <td>North York</td>\n      <td>Victoria Village</td>\n    </tr>\n    <tr>\n      <th>2</th>\n      <td>M5A</td>\n      <td>Downtown Toronto</td>\n      <td>Regent Park, Harbourfront</td>\n    </tr>\n    <tr>\n      <th>3</th>\n      <td>M6A</td>\n      <td>North York</td>\n      <td>Lawrence Manor, Lawrence Heights</td>\n    </tr>\n    <tr>\n      <th>4</th>\n      <td>M7A</td>\n      <td>Downtown Toronto</td>\n      <td>Queen's Park, Ontario Provincial Government</td>\n    </tr>\n  </tbody>\n</table>\n</div>"
     },
     "metadata": {},
     "execution_count": 16
    }
   ],
   "source": [
    "df = pd.read_csv('Toronto_Borough_viki.csv')\n",
    "df.drop(['Unnamed: 0'],axis=1,inplace=True)\n",
    "df.head()"
   ]
  },
  {
   "cell_type": "markdown",
   "metadata": {},
   "source": [
    "I ve tried to use geocoder but it doesn't work for me.\n",
    "I've used geopy / normatin (open street map) it works better but some postal codes doesn't return any result, so i've decided to use the csv file containing the longitude and latitue.\n",
    "I let the code below but idon't use it in this assignmet."
   ]
  },
  {
   "cell_type": "code",
   "execution_count": 17,
   "metadata": {},
   "outputs": [],
   "source": [
    "from geopy.geocoders import Nominatim\n",
    "\n",
    "# function that return latitude and longitude from postalCode,borough,neighborhood\n",
    "def getLocation(postalCode,borough,neighborhood):\n",
    "    geolocator = Nominatim(user_agent=\"Coursra_Toronto\")\n",
    "    str0 ='{},{},Toronto, Ontario,{}'.format(neighborhood,borough,postalCode) \n",
    "    str1='{},Toronto, Ontario'.format(postalCode)\n",
    "    str2='{},{},canada'.format(neighborhood,borough)\n",
    "\n",
    "    location = geolocator.geocode(str1)\n",
    "\n",
    "    #print(postalCode)\n",
    "    print(str0)\n",
    "    #print(str2)\n",
    "    if location!=None:\n",
    "        print(location.address,(location.latitude, location.longitude))\n",
    "        #print((location.latitude, location.longitude))\n",
    "        #print(location.raw)\n",
    "    else:\n",
    "        location = geolocator.geocode(str2)\n",
    "        if location!=None:\n",
    "            print(location.address,(location.latitude, location.longitude))\n",
    "        else:\n",
    "            print(\"No result!\")"
   ]
  },
  {
   "cell_type": "markdown",
   "metadata": {},
   "source": [
    "i loop over datas (postal code etc) to find gps coordinate\n",
    "some results are missing so i will use the provided csv file"
   ]
  },
  {
   "cell_type": "code",
   "execution_count": 18,
   "metadata": {},
   "outputs": [
    {
     "output_type": "stream",
     "name": "stdout",
     "text": "Parkwoods,North York,Toronto, Ontario,M3A\nToronto, Golden Horseshoe, Ontario, M5H 2N2, Canada (43.6534817, -79.3839347)\nVictoria Village,North York,Toronto, Ontario,M4A\nVictoria Village, Don Valley East, North York, Toronto, Golden Horseshoe, Ontario, M4A 2B1, Canada (43.732658, -79.3111892)\nRegent Park, Harbourfront,Downtown Toronto,Toronto, Ontario,M5A\nNo result!\nLawrence Manor, Lawrence Heights,North York,Toronto, Ontario,M6A\nNo result!\nQueen's Park, Ontario Provincial Government,Downtown Toronto,Toronto, Ontario,M7A\nToronto, Golden Horseshoe, Ontario, M5H 2N2, Canada (43.6534817, -79.3839347)\nIslington Avenue, Humber Valley Village,Etobicoke,Toronto, Ontario,M9A\nIslington Avenue, Humber Valley, Etobicoke, Etobicoke Centre, Etobicoke, Toronto, Golden Horseshoe, Ontario, M9A 3L8, Canada (43.6684992, -79.5339701)\nMalvern, Rouge,Scarborough,Toronto, Ontario,M1B\nToronto, Golden Horseshoe, Ontario, M5H 2N2, Canada (43.6534817, -79.3839347)\nDon Mills,North York,Toronto, Ontario,M3B\nDon Mills, Sheppard Avenue East, Parkway Forest, North York, Toronto, Golden Horseshoe, Ontario, M2J 5A7, Canada (43.775347, -79.3459439)\nParkview Hill, Woodbine Gardens,East York,Toronto, Ontario,M4B\nNo result!\nGarden District, Ryerson,Downtown Toronto,Toronto, Ontario,M5B\nNo result!\nGlencairn,North York,Toronto, Ontario,M6B\nGlencairn, Allen Road, Glen Park, Eglinton—Lawrence, North York, Toronto, Golden Horseshoe, Ontario, M6B 2A2, Canada (43.7087117, -79.4406853)\nWest Deane Park, Princess Gardens, Martin Grove, Islington, Cloverdale,Etobicoke,Toronto, Ontario,M9B\nEtobicoke, Etobicoke Centre, Etobicoke, Toronto, Golden Horseshoe, Ontario, M9B 1L3, Canada (43.64074125, -79.5419018239487)\nRouge Hill, Port Union, Highland Creek,Scarborough,Toronto, Ontario,M1C\nToronto, Golden Horseshoe, Ontario, M5H 2N2, Canada (43.6534817, -79.3839347)\nDon Mills,North York,Toronto, Ontario,M3C\nDon Mills, Don Valley East, North York, Toronto, Golden Horseshoe, Ontario, M3C 2C4, Canada (43.7328216, -79.3469614)\nWoodbine Heights,East York,Toronto, Ontario,M4C\nWoodbine Heights, Beaches—East York, Toronto, Golden Horseshoe, Ontario, M4C 2Z1, Canada (43.6999302, -79.3191316)\nSt. James Town,Downtown Toronto,Toronto, Ontario,M5C\nNo result!\nHumewood-Cedarvale,York,Toronto, Ontario,M6C\nNo result!\nEringate, Bloordale Gardens, Old Burnhamthorpe, Markland Wood,Etobicoke,Toronto, Ontario,M9C\nEtobicoke Centre, Etobicoke, Toronto, Golden Horseshoe, Ontario, M9C, Canada (43.64410993066079, -79.58890692194828)\nGuildwood, Morningside, West Hill,Scarborough,Toronto, Ontario,M1E\nCanada Post, Lawrence Avenue East, Upper Guild, Scarborough—Guildwood, Scarborough, Toronto, Golden Horseshoe, Ontario, M1G 1P1, Canada (43.7642994, -79.2051887)\nThe Beaches,East Toronto,Toronto, Ontario,M4E\nThe Beaches, Beaches—East York, Old Toronto, Toronto, Golden Horseshoe, Ontario, M4E 1C9, Canada (43.6710244, -79.296712)\nBerczy Park,Downtown Toronto,Toronto, Ontario,M5E\nSpadina—Fort York, Old Toronto, Toronto, Golden Horseshoe, Ontario, M5E, Canada (43.6421064, -79.3774455)\nCaledonia-Fairbanks,York,Toronto, Ontario,M6E\nNo result!\nWoburn,Scarborough,Toronto, Ontario,M1G\nScarborough—Guildwood, Scarborough, Toronto, Golden Horseshoe, Ontario, M1G, Canada (43.76571676956549, -79.22189842824983)\nLeaside,East York,Toronto, Ontario,M4G\nLeaside, East York, Toronto, Golden Horseshoe, Ontario, M4G 3K2, Canada (43.7047983, -79.3680904)\nCentral Bay Street,Downtown Toronto,Toronto, Ontario,M5G\nBay Street, Discovery District, Old Toronto, Toronto, Golden Horseshoe, Ontario, M5S 3M4, Canada (43.6614251, -79.3860669)\nChristie,Downtown Toronto,Toronto, Ontario,M6G\nRuth's Chris Steak House, Richmond Street West, Financial District, Spadina—Fort York, Old Toronto, Toronto, Golden Horseshoe, Ontario, M5H, Canada (43.6499915, -79.3857217)\nCedarbrae,Scarborough,Toronto, Ontario,M1H\nCedarbrae Collegiate Institute, Markham Road, Woburn, Scarborough—Guildwood, Scarborough, Toronto, Golden Horseshoe, Ontario, M1H 2A2, Canada (43.75646655, -79.22669244258802)\nHillcrest Village,North York,Toronto, Ontario,M2H\nHillcrest Village, Don Valley North, Toronto, Golden Horseshoe, Ontario, M2H 1M1, Canada (43.7996637, -79.3650189)\nBathurst Manor, Wilson Heights, Downsview North,North York,Toronto, Ontario,M3H\nNo result!\nThorncliffe Park,East York,Toronto, Ontario,M4H\nThorncliffe Park, Don Valley West, East York, Toronto, Golden Horseshoe, Ontario, M4H 1K3, Canada (43.704553, -79.3454074)\nRichmond, Adelaide, King,Downtown Toronto,Toronto, Ontario,M5H\nSpadina—Fort York, Old Toronto, Toronto, Golden Horseshoe, Ontario, M5H, Canada (43.64989555, -79.38269494796646)\nDufferin, Dovercourt Village,West Toronto,Toronto, Ontario,M6H\nDufferin, Dufferin Street, Dovercourt, Davenport, Old Toronto, Toronto, Golden Horseshoe, Ontario, M6H 1M7, Canada (43.6602019, -79.4357191)\nScarborough Village,Scarborough,Toronto, Ontario,M1J\nScarborough Village, Scarborough—Guildwood, Scarborough, Toronto, Golden Horseshoe, Ontario, M1J 3M5, Canada (43.7437422, -79.2116324)\nFairview, Henry Farm, Oriole,North York,Toronto, Ontario,M2J\nDon Valley North, North York, Toronto, Golden Horseshoe, Ontario, M2J, Canada (43.7797719, -79.3661846)\nNorthwood Park, York University,North York,Toronto, Ontario,M3J\nNo result!\nEast Toronto, Broadview North (Old East York),East York,Toronto, Ontario,M4J\nNo result!\nHarbourfront East, Union Station, Toronto Islands,Downtown Toronto,Toronto, Ontario,M5J\nSpadina—Fort York, Old Toronto, Toronto, Golden Horseshoe, Ontario, M5J, Canada (43.63925859999999, -79.38283994999999)\nLittle Portugal, Trinity,West Toronto,Toronto, Ontario,M6J\nM6J 1V1, Canada (43.6522219, -79.40753862886237)\nKennedy Park, Ionview, East Birchmount Park,Scarborough,Toronto, Ontario,M1K\nNo result!\nBayview Village,North York,Toronto, Ontario,M2K\nBayview Village, Don Valley North, North York, Toronto, Golden Horseshoe, Ontario, M2K 1C3, Canada (43.7691966, -79.3766617)\nDownsview,North York,Toronto, Ontario,M3K\nSheppard West, Sheppard West Bus Terminal, York Centre, North York, Toronto, Golden Horseshoe, Ontario, M3H 5R2, Canada (43.7492988, -79.462248)\nThe Danforth West, Riverdale,East Toronto,Toronto, Ontario,M4K\nTD Canada Trust, Queen Street East, Leslieville, East York, Old Toronto, Toronto, Golden Horseshoe, Ontario, M4M 1J4, Canada (43.66064985, -79.34271760826113)\nToronto Dominion Centre, Design Exchange,Downtown Toronto,Toronto, Ontario,M5K\nNo result!\nBrockton, Parkdale Village, Exhibition Place,West Toronto,Toronto, Ontario,M6K\nParkdale—High Park, Old Toronto, Toronto, Golden Horseshoe, Ontario, M6K, Canada (43.63709690913502, -79.4349584391061)\nGolden Mile, Clairlea, Oakridge,Scarborough,Toronto, Ontario,M1L\nNo result!\nYork Mills, Silver Hills,North York,Toronto, Ontario,M2L\nNo result!\nDownsview,North York,Toronto, Ontario,M3L\nSheppard West, Sheppard West Bus Terminal, York Centre, North York, Toronto, Golden Horseshoe, Ontario, M3H 5R2, Canada (43.7492988, -79.462248)\nIndia Bazaar, The Beaches West,East Toronto,Toronto, Ontario,M4L\nThe Beaches, Beaches—East York, Toronto, Golden Horseshoe, Ontario, M4L 3S6, Canada (43.6727601, -79.30405834999999)\nCommerce Court, Victoria Hotel,Downtown Toronto,Toronto, Ontario,M5L\nNo result!\nNorth Park, Maple Leaf Park, Upwood Park,North York,Toronto, Ontario,M6L\nNo result!\nHumber Summit,North York,Toronto, Ontario,M9L\nHumber Summit, Humber River—Black Creek, North York, Toronto, Golden Horseshoe, Ontario, L4L 4T5, Canada (43.7600778, -79.5717598)\nCliffside, Cliffcrest, Scarborough Village West,Scarborough,Toronto, Ontario,M1M\nNo result!\nWillowdale, Newtonbrook,North York,Toronto, Ontario,M2M\nm2m Condominiums (Construction), North York, Toronto, Golden Horseshoe, Ontario, Canada (43.7859621, -79.4160307769213)\nDownsview,North York,Toronto, Ontario,M3M\nSheppard West, Sheppard West Bus Terminal, York Centre, North York, Toronto, Golden Horseshoe, Ontario, M3H 5R2, Canada (43.7492988, -79.462248)\nStudio District,East Toronto,Toronto, Ontario,M4M\nMuchMusic/CTV, Queen Street West, Queen West, Spadina—Fort York, Old Toronto, Toronto, Golden Horseshoe, Ontario, M5V 2A4, Canada (43.64958515, -79.39068322559326)\nBedford Park, Lawrence Manor East,North York,Toronto, Ontario,M5M\nNo result!\nDel Ray, Mount Dennis, Keelsdale and Silverthorn,York,Toronto, Ontario,M6M\nNo result!\nHumberlea, Emery,North York,Toronto, Ontario,M9M\nThe Church of Pentecost Canada, Alloy Court, Humberlea, Humber River—Black Creek, North York, Toronto, Golden Horseshoe, Ontario, M9M 2L7, Canada (43.7357998, -79.53042451006185)\nBirch Cliff, Cliffside West,Scarborough,Toronto, Ontario,M1N\nNo result!\nWillowdale, Willowdale East,North York,Toronto, Ontario,M2N\nWillowdale, North York, Toronto, Golden Horseshoe, Ontario, M2N, Canada (43.7792385670669, -79.41659335433374)\nDownsview,North York,Toronto, Ontario,M3N\nSheppard West, Sheppard West Bus Terminal, York Centre, North York, Toronto, Golden Horseshoe, Ontario, M3H 5R2, Canada (43.7492988, -79.462248)\nLawrence Park,Central Toronto,Toronto, Ontario,M4N\nLawrence Park, Don Valley West, Toronto, Golden Horseshoe, Ontario, M4N 2L2, Canada (43.729199, -79.4032525)\nRoselawn,Central Toronto,Toronto, Ontario,M5N\nRoselawn Avenue, Fairbank, Eglinton—Lawrence, York, Toronto, Golden Horseshoe, Ontario, M6B 4J3, Canada (43.6994563, -79.4546164)\nRunnymede, The Junction North,York,Toronto, Ontario,M6N\nYork, York South—Weston, York, Toronto, Golden Horseshoe, Ontario, M6N, Canada (43.67556585, -79.48319225216662)\nWeston,York,Toronto, Ontario,M9N\nWeston, York, York South—Weston, York, Toronto, Golden Horseshoe, Ontario, M9N 2B3, Canada (43.7001608, -79.5162474)\nDorset Park, Wexford Heights, Scarborough Town Centre,Scarborough,Toronto, Ontario,M1P\nNo result!\nYork Mills West,North York,Toronto, Ontario,M2P\nYork Mills, Wilson Avenue, St. John, North York, Toronto, Golden Horseshoe, Ontario, M2P 2E3, Canada (43.7440391, -79.406657)\nDavisville North,Central Toronto,Toronto, Ontario,M4P\nDavisville, Yonge Street, Chaplin Estates, Toronto—St. Paul's, Old Toronto, Toronto, Golden Horseshoe, Ontario, M4S 3C0, Canada (43.697936, -79.3972908)\nForest Hill North & West, Forest Hill Road Park,Central Toronto,Toronto, Ontario,M5P\nNo result!\nHigh Park, The Junction South,West Toronto,Toronto, Ontario,M6P\nHigh Park North, Parkdale—High Park, Old Toronto, Toronto, Golden Horseshoe, Ontario, M6P, Canada (43.662172749999996, -79.46387718133434)\nWestmount,Etobicoke,Toronto, Ontario,M9P\nWestmount, Etobicoke Centre, Etobicoke, Toronto, Golden Horseshoe, Ontario, M9P 1E9, Canada (43.6936399, -79.5210426)\nWexford, Maryvale,Scarborough,Toronto, Ontario,M1R\nNo result!\nWillowdale, Willowdale West,North York,Toronto, Ontario,M2R\nWillowdale, Church Avenue, Willowdale, North York, Toronto, Golden Horseshoe, Ontario, M2N 4E7, Canada (43.7739798, -79.4138331)\nNorth Toronto West,  Lawrence Park,Central Toronto,Toronto, Ontario,M4R\nNo result!\nThe Annex, North Midtown, Yorkville,Central Toronto,Toronto, Ontario,M5R\nNo result!\nParkdale, Roncesvalles,West Toronto,Toronto, Ontario,M6R\nParkdale Milk and Variety, Queen Street West, Parkdale, Roncesvalles, Parkdale—High Park, Old Toronto, Toronto, Golden Horseshoe, Ontario, M6R 1A1, Canada (43.6398746, -79.4396529)\nCanada Post Gateway Processing Centre,Mississauga,Toronto, Ontario,M7R\nNo result!\nKingsview Village, St. Phillips, Martin Grove Gardens, Richview Gardens,Etobicoke,Toronto, Ontario,M9R\nEtobicoke Centre, Etobicoke, Toronto, Golden Horseshoe, Ontario, M9R, Canada (43.69516618990701, -79.55088985426742)\nAgincourt,Scarborough,Toronto, Ontario,M1S\nAgincourt, Scarborough—Agincourt, Scarborough, Toronto, Golden Horseshoe, Ontario, M1S 1T3, Canada (43.7853531, -79.2785494)\nDavisville,Central Toronto,Toronto, Ontario,M4S\nDavisville, Yonge Street, Chaplin Estates, Toronto—St. Paul's, Old Toronto, Toronto, Golden Horseshoe, Ontario, M4S 3C0, Canada (43.697936, -79.3972908)\nUniversity of Toronto, Harbord,Downtown Toronto,Toronto, Ontario,M5S\nNo result!\nRunnymede, Swansea,West Toronto,Toronto, Ontario,M6S\nSwansea, Parkdale—High Park, Old Toronto, Toronto, Golden Horseshoe, Ontario, M6S, Canada (43.6492475, -79.47463060400672)\nClarks Corners, Tam O'Shanter, Sullivan,Scarborough,Toronto, Ontario,M1T\nNo result!\nMoore Park, Summerhill East,Central Toronto,Toronto, Ontario,M4T\nNo result!\nKensington Market, Chinatown, Grange Park,Downtown Toronto,Toronto, Ontario,M5T\nNo result!\nMilliken, Agincourt North, Steeles East, L'Amoreaux East,Scarborough,Toronto, Ontario,M1V\nNo result!\nSummerhill West, Rathnelly, South Hill, Forest Hill SE, Deer Park,Central Toronto,Toronto, Ontario,M4V\nNo result!\nCN Tower, King and Spadina, Railway Lands, Harbourfront West, Bathurst Quay, South Niagara, Island airport,Downtown Toronto,Toronto, Ontario,M5V\nM5V Condominiums, Lane South King West Blue Jays Way, Fashion District, Spadina—Fort York, Old Toronto, Toronto, Golden Horseshoe, Ontario, M5V 1K1, Canada (43.6456336, -79.39298744692186)\nNew Toronto, Mimico South, Humber Bay Shores,Etobicoke,Toronto, Ontario,M8V\nNo result!\nSouth Steeles, Silverstone, Humbergate, Jamestown, Mount Olive, Beaumond Heights, Thistletown, Albion Gardens,Etobicoke,Toronto, Ontario,M9V\nNo result!\nSteeles West, L'Amoreaux West,Scarborough,Toronto, Ontario,M1W\nScarborough—Agincourt, Scarborough, Toronto, Golden Horseshoe, Ontario, M1W, Canada (43.81545466594209, -79.32772103687638)\nRosedale,Downtown Toronto,Toronto, Ontario,M4W\nDowntown Yonge, Toronto Centre, Old Toronto, Toronto, Golden Horseshoe, Ontario, M5B 2C3, Canada (43.6563221, -79.3809161)\nStn A PO Boxes,Downtown Toronto,Toronto, Ontario,M5W\nNo result!\nAlderwood, Long Branch,Etobicoke,Toronto, Ontario,M8W\nAlderwood, Etobicoke—Lakeshore, Etobicoke, Toronto, Golden Horseshoe, Ontario, M8W 3T7, Canada (43.6017173, -79.5452325)\nNorthwest, West Humber - Clairville,Etobicoke,Toronto, Ontario,M9W\nNo result!\nUpper Rouge,Scarborough,Toronto, Ontario,M1X\nRouge, Scarborough—Rouge Park, Scarborough, Toronto, Golden Horseshoe, Ontario, M1B 2K5, Canada (43.8049304, -79.1658374)\nSt. James Town, Cabbagetown,Downtown Toronto,Toronto, Ontario,M4X\nYaris Super Store, Parliament Street, Cabbagetown, Old Toronto, Toronto, Golden Horseshoe, Ontario, M4X 1P9, Canada (43.6680266, -79.3692816)\nFirst Canadian Place, Underground city,Downtown Toronto,Toronto, Ontario,M5X\nNo result!\nThe Kingsway, Montgomery Road, Old Mill North,Etobicoke,Toronto, Ontario,M8X\nNo result!\nChurch and Wellesley,Downtown Toronto,Toronto, Ontario,M4Y\nBay St & Wellesley St W, Bay Street, Church-Wellesley Village, Old Toronto, Toronto, Golden Horseshoe, Ontario, M5S 1Z6, Canada (43.6637002, -79.3870773)\nBusiness reply mail Processing Centre, South Central Letter Processing Plant Toronto,East Toronto,Toronto, Ontario,M7Y\nNo result!\nOld Mill South, King's Mill Park, Sunnylea, Humber Bay, Mimico NE, The Queensway East, Royal York South East, Kingsway Park South East,Etobicoke,Toronto, Ontario,M8Y\nNo result!\nMimico NW, The Queensway West, South of Bloor, Kingsway Park South West, Royal York South West,Etobicoke,Toronto, Ontario,M8Z\nNo result!\n"
    }
   ],
   "source": [
    "from geopy.geocoders import Nominatim\n",
    "\n",
    "geolocator = Nominatim(user_agent=\"Coursra_Toronto\")\n",
    "\n",
    "for line in df.itertuples():\n",
    "    #print(line.Borough)\n",
    "    #print(line.PostalCode,line.Borough,line.Neighborhood)\n",
    "    getLocation(line.PostalCode,line.Borough,line.Neighborhood)"
   ]
  },
  {
   "cell_type": "markdown",
   "metadata": {},
   "source": [
    "finally i use the csv file\n"
   ]
  },
  {
   "cell_type": "code",
   "execution_count": 19,
   "metadata": {},
   "outputs": [
    {
     "output_type": "execute_result",
     "data": {
      "text/plain": "  PostalCode   Latitude  Longitude\n0        M1B  43.806686 -79.194353\n1        M1C  43.784535 -79.160497\n2        M1E  43.763573 -79.188711\n3        M1G  43.770992 -79.216917\n4        M1H  43.773136 -79.239476",
      "text/html": "<div>\n<style scoped>\n    .dataframe tbody tr th:only-of-type {\n        vertical-align: middle;\n    }\n\n    .dataframe tbody tr th {\n        vertical-align: top;\n    }\n\n    .dataframe thead th {\n        text-align: right;\n    }\n</style>\n<table border=\"1\" class=\"dataframe\">\n  <thead>\n    <tr style=\"text-align: right;\">\n      <th></th>\n      <th>PostalCode</th>\n      <th>Latitude</th>\n      <th>Longitude</th>\n    </tr>\n  </thead>\n  <tbody>\n    <tr>\n      <th>0</th>\n      <td>M1B</td>\n      <td>43.806686</td>\n      <td>-79.194353</td>\n    </tr>\n    <tr>\n      <th>1</th>\n      <td>M1C</td>\n      <td>43.784535</td>\n      <td>-79.160497</td>\n    </tr>\n    <tr>\n      <th>2</th>\n      <td>M1E</td>\n      <td>43.763573</td>\n      <td>-79.188711</td>\n    </tr>\n    <tr>\n      <th>3</th>\n      <td>M1G</td>\n      <td>43.770992</td>\n      <td>-79.216917</td>\n    </tr>\n    <tr>\n      <th>4</th>\n      <td>M1H</td>\n      <td>43.773136</td>\n      <td>-79.239476</td>\n    </tr>\n  </tbody>\n</table>\n</div>"
     },
     "metadata": {},
     "execution_count": 19
    }
   ],
   "source": [
    "dfCoord = pd.read_csv('Geospatial_Coordinates.csv')\n",
    "dfCoord.columns=['PostalCode','Latitude','Longitude']\n",
    "dfCoord.head()\n"
   ]
  },
  {
   "cell_type": "markdown",
   "metadata": {},
   "source": [
    "I merge the two dataframes using the postal code"
   ]
  },
  {
   "cell_type": "code",
   "execution_count": 20,
   "metadata": {},
   "outputs": [
    {
     "output_type": "execute_result",
     "data": {
      "text/plain": "  PostalCode           Borough                                 Neighborhood  \\\n0        M3A        North York                                    Parkwoods   \n1        M4A        North York                             Victoria Village   \n2        M5A  Downtown Toronto                    Regent Park, Harbourfront   \n3        M6A        North York             Lawrence Manor, Lawrence Heights   \n4        M7A  Downtown Toronto  Queen's Park, Ontario Provincial Government   \n\n    Latitude  Longitude  \n0  43.753259 -79.329656  \n1  43.725882 -79.315572  \n2  43.654260 -79.360636  \n3  43.718518 -79.464763  \n4  43.662301 -79.389494  ",
      "text/html": "<div>\n<style scoped>\n    .dataframe tbody tr th:only-of-type {\n        vertical-align: middle;\n    }\n\n    .dataframe tbody tr th {\n        vertical-align: top;\n    }\n\n    .dataframe thead th {\n        text-align: right;\n    }\n</style>\n<table border=\"1\" class=\"dataframe\">\n  <thead>\n    <tr style=\"text-align: right;\">\n      <th></th>\n      <th>PostalCode</th>\n      <th>Borough</th>\n      <th>Neighborhood</th>\n      <th>Latitude</th>\n      <th>Longitude</th>\n    </tr>\n  </thead>\n  <tbody>\n    <tr>\n      <th>0</th>\n      <td>M3A</td>\n      <td>North York</td>\n      <td>Parkwoods</td>\n      <td>43.753259</td>\n      <td>-79.329656</td>\n    </tr>\n    <tr>\n      <th>1</th>\n      <td>M4A</td>\n      <td>North York</td>\n      <td>Victoria Village</td>\n      <td>43.725882</td>\n      <td>-79.315572</td>\n    </tr>\n    <tr>\n      <th>2</th>\n      <td>M5A</td>\n      <td>Downtown Toronto</td>\n      <td>Regent Park, Harbourfront</td>\n      <td>43.654260</td>\n      <td>-79.360636</td>\n    </tr>\n    <tr>\n      <th>3</th>\n      <td>M6A</td>\n      <td>North York</td>\n      <td>Lawrence Manor, Lawrence Heights</td>\n      <td>43.718518</td>\n      <td>-79.464763</td>\n    </tr>\n    <tr>\n      <th>4</th>\n      <td>M7A</td>\n      <td>Downtown Toronto</td>\n      <td>Queen's Park, Ontario Provincial Government</td>\n      <td>43.662301</td>\n      <td>-79.389494</td>\n    </tr>\n  </tbody>\n</table>\n</div>"
     },
     "metadata": {},
     "execution_count": 20
    }
   ],
   "source": [
    "df1 = pd.merge(df, dfCoord, on='PostalCode')\n",
    "df1.head()"
   ]
  },
  {
   "cell_type": "code",
   "execution_count": 21,
   "metadata": {},
   "outputs": [],
   "source": [
    "#I save the dataframe for the next step of the assignment\n",
    "df1.to_csv('Toronto_Borough_Coord.csv')"
   ]
  },
  {
   "cell_type": "code",
   "execution_count": null,
   "metadata": {},
   "outputs": [],
   "source": []
  }
 ],
 "metadata": {
  "language_info": {
   "codemirror_mode": {
    "name": "ipython",
    "version": 3
   },
   "file_extension": ".py",
   "mimetype": "text/x-python",
   "name": "python",
   "nbconvert_exporter": "python",
   "pygments_lexer": "ipython3",
   "version": "3.8.3-final"
  },
  "orig_nbformat": 2,
  "kernelspec": {
   "name": "python3",
   "display_name": "Python 3"
  }
 },
 "nbformat": 4,
 "nbformat_minor": 2
}